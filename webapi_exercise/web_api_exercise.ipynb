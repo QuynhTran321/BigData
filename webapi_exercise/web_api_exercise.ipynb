{
 "cells": [
  {
   "cell_type": "code",
   "execution_count": 1,
   "metadata": {},
   "outputs": [],
   "source": [
    "import requests\n",
    "import json"
   ]
  },
  {
   "cell_type": "code",
   "execution_count": 19,
   "metadata": {},
   "outputs": [],
   "source": [
    "response = requests.get(\"https://api.randomuser.me/?nat=us&results=10\")"
   ]
  },
  {
   "cell_type": "code",
   "execution_count": 20,
   "metadata": {},
   "outputs": [
    {
     "name": "stdout",
     "output_type": "stream",
     "text": [
      "200\n"
     ]
    }
   ],
   "source": [
    "print(response.status_code)"
   ]
  },
  {
   "cell_type": "code",
   "execution_count": 4,
   "metadata": {},
   "outputs": [],
   "source": [
    "parameters = {\"nat\": \"us\", \"results\":10}\n",
    "\n",
    "response = requests.get(\"https://api.randomuser.me\", params=parameters)"
   ]
  },
  {
   "cell_type": "code",
   "execution_count": 5,
   "metadata": {
    "scrolled": true
   },
   "outputs": [
    {
     "data": {
      "text/plain": [
       "'{\"results\":[{\"gender\":\"female\",\"name\":{\"title\":\"Miss\",\"first\":\"Lillian\",\"last\":\"Pierce\"},\"location\":{\"street\":{\"number\":7371,\"name\":\"Washington Ave\"},\"city\":\"San Jose\",\"state\":\"Pennsylvania\",\"country\":\"United States\",\"postcode\":54058,\"coordinates\":{\"latitude\":\"74.4294\",\"longitude\":\"25.9423\"},\"timezone\":{\"offset\":\"+7:00\",\"description\":\"Bangkok, Hanoi, Jakarta\"}},\"email\":\"lillian.pierce@example.com\",\"login\":{\"uuid\":\"9b0cbfcb-70bf-46bb-9355-6020cfbbcb99\",\"username\":\"greengorilla135\",\"password\":\"friends\",\"salt\":\"bQ7ATRhp\",\"md5\":\"ab2a6f095c06a0c50e199ac00bbe8dae\",\"sha1\":\"9c39539589fa2078b11fd9ed3a6f7e3469a651d0\",\"sha256\":\"8ee1f95a29251bea4670b0c82940a34c8e90c04c03fc40466c158b82675ba291\"},\"dob\":{\"date\":\"1952-05-06T21:27:35.390Z\",\"age\":69},\"registered\":{\"date\":\"2002-07-03T13:44:05.035Z\",\"age\":19},\"phone\":\"(977)-775-5329\",\"cell\":\"(639)-746-3376\",\"id\":{\"name\":\"SSN\",\"value\":\"552-65-9740\"},\"picture\":{\"large\":\"https://randomuser.me/api/portraits/women/77.jpg\",\"medium\":\"https://randomuser.me/api/portraits/med/women/77.jpg\",\"thumbnail\":\"https://randomuser.me/api/portraits/thumb/women/77.jpg\"},\"nat\":\"US\"},{\"gender\":\"female\",\"name\":{\"title\":\"Ms\",\"first\":\"Addison\",\"last\":\"Richards\"},\"location\":{\"street\":{\"number\":929,\"name\":\"Poplar Dr\"},\"city\":\"Lowell\",\"state\":\"Missouri\",\"country\":\"United States\",\"postcode\":41256,\"coordinates\":{\"latitude\":\"-26.5144\",\"longitude\":\"-98.1539\"},\"timezone\":{\"offset\":\"+7:00\",\"description\":\"Bangkok, Hanoi, Jakarta\"}},\"email\":\"addison.richards@example.com\",\"login\":{\"uuid\":\"ea4eb7a5-5ba8-484a-8fc6-03c0ccc1a875\",\"username\":\"happydog793\",\"password\":\"2002\",\"salt\":\"bfJs1M7P\",\"md5\":\"6fde9db297800d5ab9e9c5c135846d47\",\"sha1\":\"eccf5e0eb7c53656237cb2bbf65be4f92476ed8c\",\"sha256\":\"b9f26fba14ede999031100fa6716ba9216639894685db0e66f942283220a4a82\"},\"dob\":{\"date\":\"1966-12-30T04:05:29.043Z\",\"age\":55},\"registered\":{\"date\":\"2017-10-20T20:05:43.215Z\",\"age\":4},\"phone\":\"(333)-099-6595\",\"cell\":\"(076)-976-8476\",\"id\":{\"name\":\"SSN\",\"value\":\"153-69-2147\"},\"picture\":{\"large\":\"https://randomuser.me/api/portraits/women/57.jpg\",\"medium\":\"https://randomuser.me/api/portraits/med/women/57.jpg\",\"thumbnail\":\"https://randomuser.me/api/portraits/thumb/women/57.jpg\"},\"nat\":\"US\"},{\"gender\":\"male\",\"name\":{\"title\":\"Mr\",\"first\":\"Jimmie\",\"last\":\"Caldwell\"},\"location\":{\"street\":{\"number\":417,\"name\":\"Smokey Ln\"},\"city\":\"Woodbridge\",\"state\":\"Connecticut\",\"country\":\"United States\",\"postcode\":36429,\"coordinates\":{\"latitude\":\"-84.9551\",\"longitude\":\"-145.5744\"},\"timezone\":{\"offset\":\"+4:30\",\"description\":\"Kabul\"}},\"email\":\"jimmie.caldwell@example.com\",\"login\":{\"uuid\":\"94dafa06-2c6e-4955-91ff-a8f90cafbad7\",\"username\":\"smallbear483\",\"password\":\"puppy\",\"salt\":\"tZvQnxJX\",\"md5\":\"3114294a835f2acd5dbaf033cbea0d30\",\"sha1\":\"0eee5b23ea17d3c9d117bb28f94f29513f5616fc\",\"sha256\":\"d81c18ce24f2646a0de8070f5583d190c3195ec4be2a29aaed1826adc169a574\"},\"dob\":{\"date\":\"1956-09-01T20:08:50.161Z\",\"age\":65},\"registered\":{\"date\":\"2003-09-03T00:27:43.360Z\",\"age\":18},\"phone\":\"(468)-388-8501\",\"cell\":\"(312)-308-7205\",\"id\":{\"name\":\"SSN\",\"value\":\"122-03-5077\"},\"picture\":{\"large\":\"https://randomuser.me/api/portraits/men/3.jpg\",\"medium\":\"https://randomuser.me/api/portraits/med/men/3.jpg\",\"thumbnail\":\"https://randomuser.me/api/portraits/thumb/men/3.jpg\"},\"nat\":\"US\"},{\"gender\":\"male\",\"name\":{\"title\":\"Mr\",\"first\":\"Pedro\",\"last\":\"Gordon\"},\"location\":{\"street\":{\"number\":2323,\"name\":\"Timber Wolf Trail\"},\"city\":\"Fresno\",\"state\":\"California\",\"country\":\"United States\",\"postcode\":99584,\"coordinates\":{\"latitude\":\"50.2398\",\"longitude\":\"61.6355\"},\"timezone\":{\"offset\":\"-6:00\",\"description\":\"Central Time (US & Canada), Mexico City\"}},\"email\":\"pedro.gordon@example.com\",\"login\":{\"uuid\":\"385af426-b338-41a0-8f24-4d5b359cbc06\",\"username\":\"crazycat587\",\"password\":\"alfredo\",\"salt\":\"tccpYt5T\",\"md5\":\"a3cfb47324ead4338aaff89de010dcca\",\"sha1\":\"fa1581b9cb3ca1ed1f9db83eb470893d22b4549d\",\"sha256\":\"c764cdd3f9409382c5ef663f69b498e14e9eeff2b3cbfd79416f3894c3756a4a\"},\"dob\":{\"date\":\"1974-03-26T01:31:41.104Z\",\"age\":47},\"registered\":{\"date\":\"2004-09-30T05:47:25.500Z\",\"age\":17},\"phone\":\"(725)-146-2675\",\"cell\":\"(271)-153-7204\",\"id\":{\"name\":\"SSN\",\"value\":\"437-16-4496\"},\"picture\":{\"large\":\"https://randomuser.me/api/portraits/men/41.jpg\",\"medium\":\"https://randomuser.me/api/portraits/med/men/41.jpg\",\"thumbnail\":\"https://randomuser.me/api/portraits/thumb/men/41.jpg\"},\"nat\":\"US\"},{\"gender\":\"male\",\"name\":{\"title\":\"Mr\",\"first\":\"Willie\",\"last\":\"Henderson\"},\"location\":{\"street\":{\"number\":9262,\"name\":\"Walnut Hill Ln\"},\"city\":\"Omaha\",\"state\":\"Iowa\",\"country\":\"United States\",\"postcode\":54305,\"coordinates\":{\"latitude\":\"-50.0076\",\"longitude\":\"-150.1323\"},\"timezone\":{\"offset\":\"-1:00\",\"description\":\"Azores, Cape Verde Islands\"}},\"email\":\"willie.henderson@example.com\",\"login\":{\"uuid\":\"079e5edd-9125-4245-8ec3-181330590bcb\",\"username\":\"whitedog884\",\"password\":\"trucking\",\"salt\":\"rM6S6ZSu\",\"md5\":\"c2d00bae80a43f0a8341b5578cd542b4\",\"sha1\":\"dd6005d0ee96f4a2fd206a3544f2c34ec3a57bc1\",\"sha256\":\"3b59b9301aa5eccd9d9f4acca2194939148ac8e6339682d64a4985ef5d026b5b\"},\"dob\":{\"date\":\"1969-08-08T05:31:00.305Z\",\"age\":52},\"registered\":{\"date\":\"2017-11-20T21:36:32.897Z\",\"age\":4},\"phone\":\"(535)-582-9561\",\"cell\":\"(909)-678-8027\",\"id\":{\"name\":\"SSN\",\"value\":\"724-23-6681\"},\"picture\":{\"large\":\"https://randomuser.me/api/portraits/men/41.jpg\",\"medium\":\"https://randomuser.me/api/portraits/med/men/41.jpg\",\"thumbnail\":\"https://randomuser.me/api/portraits/thumb/men/41.jpg\"},\"nat\":\"US\"},{\"gender\":\"female\",\"name\":{\"title\":\"Miss\",\"first\":\"Beverley\",\"last\":\"Watson\"},\"location\":{\"street\":{\"number\":7161,\"name\":\"Washington Ave\"},\"city\":\"Tulsa\",\"state\":\"New Jersey\",\"country\":\"United States\",\"postcode\":41902,\"coordinates\":{\"latitude\":\"-37.5598\",\"longitude\":\"92.0760\"},\"timezone\":{\"offset\":\"+1:00\",\"description\":\"Brussels, Copenhagen, Madrid, Paris\"}},\"email\":\"beverley.watson@example.com\",\"login\":{\"uuid\":\"533d51f5-003c-45eb-9428-826c382694ac\",\"username\":\"silvergorilla823\",\"password\":\"maryland\",\"salt\":\"tx164KPG\",\"md5\":\"0831589e81bec9ec5824049c0f8ac7c6\",\"sha1\":\"c586051fb266fc9afaceaa3e79ee3938cfe60a7d\",\"sha256\":\"2008010c7f84268b2e53cebc1bb64ce6681161849a9abcd768ea800d586c35b9\"},\"dob\":{\"date\":\"1996-06-07T06:36:42.619Z\",\"age\":25},\"registered\":{\"date\":\"2013-01-27T05:47:56.881Z\",\"age\":8},\"phone\":\"(877)-036-2323\",\"cell\":\"(045)-991-5347\",\"id\":{\"name\":\"SSN\",\"value\":\"473-91-7791\"},\"picture\":{\"large\":\"https://randomuser.me/api/portraits/women/84.jpg\",\"medium\":\"https://randomuser.me/api/portraits/med/women/84.jpg\",\"thumbnail\":\"https://randomuser.me/api/portraits/thumb/women/84.jpg\"},\"nat\":\"US\"},{\"gender\":\"male\",\"name\":{\"title\":\"Mr\",\"first\":\"Ricky\",\"last\":\"Harvey\"},\"location\":{\"street\":{\"number\":3402,\"name\":\"Oak Ridge Ln\"},\"city\":\"Tempe\",\"state\":\"Oklahoma\",\"country\":\"United States\",\"postcode\":50654,\"coordinates\":{\"latitude\":\"8.6916\",\"longitude\":\"-75.6171\"},\"timezone\":{\"offset\":\"+6:00\",\"description\":\"Almaty, Dhaka, Colombo\"}},\"email\":\"ricky.harvey@example.com\",\"login\":{\"uuid\":\"b1286c41-676b-4297-bea1-4f66eea4749e\",\"username\":\"redsnake182\",\"password\":\"johndeer\",\"salt\":\"OxKMXUQ0\",\"md5\":\"ffb6d80b12268c3cbc1aad3c3d9a6a08\",\"sha1\":\"8a9b7c35a0aa7651239baf2267b1fb7160e5f674\",\"sha256\":\"1e12aa0f24ac24548cacba7b74824f1167ba351d5019c82354776eeb68c5e15f\"},\"dob\":{\"date\":\"1960-08-05T09:11:54.214Z\",\"age\":61},\"registered\":{\"date\":\"2010-03-22T13:48:52.796Z\",\"age\":11},\"phone\":\"(747)-048-6917\",\"cell\":\"(272)-292-5327\",\"id\":{\"name\":\"SSN\",\"value\":\"240-16-3360\"},\"picture\":{\"large\":\"https://randomuser.me/api/portraits/men/52.jpg\",\"medium\":\"https://randomuser.me/api/portraits/med/men/52.jpg\",\"thumbnail\":\"https://randomuser.me/api/portraits/thumb/men/52.jpg\"},\"nat\":\"US\"},{\"gender\":\"male\",\"name\":{\"title\":\"Mr\",\"first\":\"Joe\",\"last\":\"Byrd\"},\"location\":{\"street\":{\"number\":6716,\"name\":\"W Sherman Dr\"},\"city\":\"Costa Mesa\",\"state\":\"New Hampshire\",\"country\":\"United States\",\"postcode\":92657,\"coordinates\":{\"latitude\":\"38.6242\",\"longitude\":\"156.0966\"},\"timezone\":{\"offset\":\"0:00\",\"description\":\"Western Europe Time, London, Lisbon, Casablanca\"}},\"email\":\"joe.byrd@example.com\",\"login\":{\"uuid\":\"db5ef2d7-e686-488d-8f9a-2f0eaced14cb\",\"username\":\"goldencat180\",\"password\":\"rhodes\",\"salt\":\"PGJGGcmT\",\"md5\":\"71808239e16188d8369a0e95e53453d2\",\"sha1\":\"40133be4d9730fa48f724c0e428eaba9b12f4899\",\"sha256\":\"53a76392a040c8eb1ca489be2b4d87855404395d5711e993aff2527d49b46953\"},\"dob\":{\"date\":\"1986-12-20T07:00:15.264Z\",\"age\":35},\"registered\":{\"date\":\"2018-09-21T18:50:57.661Z\",\"age\":3},\"phone\":\"(927)-864-2469\",\"cell\":\"(988)-511-5989\",\"id\":{\"name\":\"SSN\",\"value\":\"195-43-0788\"},\"picture\":{\"large\":\"https://randomuser.me/api/portraits/men/24.jpg\",\"medium\":\"https://randomuser.me/api/portraits/med/men/24.jpg\",\"thumbnail\":\"https://randomuser.me/api/portraits/thumb/men/24.jpg\"},\"nat\":\"US\"},{\"gender\":\"male\",\"name\":{\"title\":\"Mr\",\"first\":\"Ramon\",\"last\":\"West\"},\"location\":{\"street\":{\"number\":3251,\"name\":\"Paddock Way\"},\"city\":\"Worcester\",\"state\":\"Kentucky\",\"country\":\"United States\",\"postcode\":40370,\"coordinates\":{\"latitude\":\"-37.3808\",\"longitude\":\"-30.0750\"},\"timezone\":{\"offset\":\"+8:00\",\"description\":\"Beijing, Perth, Singapore, Hong Kong\"}},\"email\":\"ramon.west@example.com\",\"login\":{\"uuid\":\"45aae3bc-1f17-4bfe-9556-dee9a89c6cf9\",\"username\":\"bluecat775\",\"password\":\"bathing\",\"salt\":\"GUUk0X40\",\"md5\":\"535089028fb6209b2b8b472c7b495cae\",\"sha1\":\"845ea3269db54617741b43df019ba1c01763e9b4\",\"sha256\":\"3bda07da8fb269274bded679971b6839f4e6f9ec9fcd5f582226077dc4e1c85a\"},\"dob\":{\"date\":\"1968-07-11T04:08:50.014Z\",\"age\":53},\"registered\":{\"date\":\"2002-10-03T05:39:02.399Z\",\"age\":19},\"phone\":\"(346)-409-4813\",\"cell\":\"(257)-397-2172\",\"id\":{\"name\":\"SSN\",\"value\":\"140-10-2314\"},\"picture\":{\"large\":\"https://randomuser.me/api/portraits/men/91.jpg\",\"medium\":\"https://randomuser.me/api/portraits/med/men/91.jpg\",\"thumbnail\":\"https://randomuser.me/api/portraits/thumb/men/91.jpg\"},\"nat\":\"US\"},{\"gender\":\"female\",\"name\":{\"title\":\"Miss\",\"first\":\"Dora\",\"last\":\"Williams\"},\"location\":{\"street\":{\"number\":9907,\"name\":\"Cherry St\"},\"city\":\"Montgomery\",\"state\":\"Virginia\",\"country\":\"United States\",\"postcode\":67482,\"coordinates\":{\"latitude\":\"67.0896\",\"longitude\":\"132.7669\"},\"timezone\":{\"offset\":\"+2:00\",\"description\":\"Kaliningrad, South Africa\"}},\"email\":\"dora.williams@example.com\",\"login\":{\"uuid\":\"cc14a454-6169-4ef2-957c-6b5f2cbf261c\",\"username\":\"yellowelephant488\",\"password\":\"joseph\",\"salt\":\"bshvlNv8\",\"md5\":\"30a5d9d54213634f405edfb762f4df5e\",\"sha1\":\"e7f53ac4127d34028c0a2d8e00b0d32b2a00b41c\",\"sha256\":\"d284bad41c688d75af1a30413b07fec8c2e2d97827bd05d716f89eada5b5077e\"},\"dob\":{\"date\":\"1952-09-20T13:37:46.063Z\",\"age\":69},\"registered\":{\"date\":\"2005-03-15T07:46:48.290Z\",\"age\":16},\"phone\":\"(721)-448-5135\",\"cell\":\"(066)-925-0676\",\"id\":{\"name\":\"SSN\",\"value\":\"149-34-4970\"},\"picture\":{\"large\":\"https://randomuser.me/api/portraits/women/64.jpg\",\"medium\":\"https://randomuser.me/api/portraits/med/women/64.jpg\",\"thumbnail\":\"https://randomuser.me/api/portraits/thumb/women/64.jpg\"},\"nat\":\"US\"}],\"info\":{\"seed\":\"416f8ac8d754b04e\",\"results\":10,\"page\":1,\"version\":\"1.3\"}}'"
      ]
     },
     "execution_count": 5,
     "metadata": {},
     "output_type": "execute_result"
    }
   ],
   "source": [
    "response.text"
   ]
  },
  {
   "cell_type": "code",
   "execution_count": 6,
   "metadata": {},
   "outputs": [
    {
     "data": {
      "text/plain": [
       "{'results': [{'gender': 'female',\n",
       "   'name': {'title': 'Miss', 'first': 'Lillian', 'last': 'Pierce'},\n",
       "   'location': {'street': {'number': 7371, 'name': 'Washington Ave'},\n",
       "    'city': 'San Jose',\n",
       "    'state': 'Pennsylvania',\n",
       "    'country': 'United States',\n",
       "    'postcode': 54058,\n",
       "    'coordinates': {'latitude': '74.4294', 'longitude': '25.9423'},\n",
       "    'timezone': {'offset': '+7:00', 'description': 'Bangkok, Hanoi, Jakarta'}},\n",
       "   'email': 'lillian.pierce@example.com',\n",
       "   'login': {'uuid': '9b0cbfcb-70bf-46bb-9355-6020cfbbcb99',\n",
       "    'username': 'greengorilla135',\n",
       "    'password': 'friends',\n",
       "    'salt': 'bQ7ATRhp',\n",
       "    'md5': 'ab2a6f095c06a0c50e199ac00bbe8dae',\n",
       "    'sha1': '9c39539589fa2078b11fd9ed3a6f7e3469a651d0',\n",
       "    'sha256': '8ee1f95a29251bea4670b0c82940a34c8e90c04c03fc40466c158b82675ba291'},\n",
       "   'dob': {'date': '1952-05-06T21:27:35.390Z', 'age': 69},\n",
       "   'registered': {'date': '2002-07-03T13:44:05.035Z', 'age': 19},\n",
       "   'phone': '(977)-775-5329',\n",
       "   'cell': '(639)-746-3376',\n",
       "   'id': {'name': 'SSN', 'value': '552-65-9740'},\n",
       "   'picture': {'large': 'https://randomuser.me/api/portraits/women/77.jpg',\n",
       "    'medium': 'https://randomuser.me/api/portraits/med/women/77.jpg',\n",
       "    'thumbnail': 'https://randomuser.me/api/portraits/thumb/women/77.jpg'},\n",
       "   'nat': 'US'},\n",
       "  {'gender': 'female',\n",
       "   'name': {'title': 'Ms', 'first': 'Addison', 'last': 'Richards'},\n",
       "   'location': {'street': {'number': 929, 'name': 'Poplar Dr'},\n",
       "    'city': 'Lowell',\n",
       "    'state': 'Missouri',\n",
       "    'country': 'United States',\n",
       "    'postcode': 41256,\n",
       "    'coordinates': {'latitude': '-26.5144', 'longitude': '-98.1539'},\n",
       "    'timezone': {'offset': '+7:00', 'description': 'Bangkok, Hanoi, Jakarta'}},\n",
       "   'email': 'addison.richards@example.com',\n",
       "   'login': {'uuid': 'ea4eb7a5-5ba8-484a-8fc6-03c0ccc1a875',\n",
       "    'username': 'happydog793',\n",
       "    'password': '2002',\n",
       "    'salt': 'bfJs1M7P',\n",
       "    'md5': '6fde9db297800d5ab9e9c5c135846d47',\n",
       "    'sha1': 'eccf5e0eb7c53656237cb2bbf65be4f92476ed8c',\n",
       "    'sha256': 'b9f26fba14ede999031100fa6716ba9216639894685db0e66f942283220a4a82'},\n",
       "   'dob': {'date': '1966-12-30T04:05:29.043Z', 'age': 55},\n",
       "   'registered': {'date': '2017-10-20T20:05:43.215Z', 'age': 4},\n",
       "   'phone': '(333)-099-6595',\n",
       "   'cell': '(076)-976-8476',\n",
       "   'id': {'name': 'SSN', 'value': '153-69-2147'},\n",
       "   'picture': {'large': 'https://randomuser.me/api/portraits/women/57.jpg',\n",
       "    'medium': 'https://randomuser.me/api/portraits/med/women/57.jpg',\n",
       "    'thumbnail': 'https://randomuser.me/api/portraits/thumb/women/57.jpg'},\n",
       "   'nat': 'US'},\n",
       "  {'gender': 'male',\n",
       "   'name': {'title': 'Mr', 'first': 'Jimmie', 'last': 'Caldwell'},\n",
       "   'location': {'street': {'number': 417, 'name': 'Smokey Ln'},\n",
       "    'city': 'Woodbridge',\n",
       "    'state': 'Connecticut',\n",
       "    'country': 'United States',\n",
       "    'postcode': 36429,\n",
       "    'coordinates': {'latitude': '-84.9551', 'longitude': '-145.5744'},\n",
       "    'timezone': {'offset': '+4:30', 'description': 'Kabul'}},\n",
       "   'email': 'jimmie.caldwell@example.com',\n",
       "   'login': {'uuid': '94dafa06-2c6e-4955-91ff-a8f90cafbad7',\n",
       "    'username': 'smallbear483',\n",
       "    'password': 'puppy',\n",
       "    'salt': 'tZvQnxJX',\n",
       "    'md5': '3114294a835f2acd5dbaf033cbea0d30',\n",
       "    'sha1': '0eee5b23ea17d3c9d117bb28f94f29513f5616fc',\n",
       "    'sha256': 'd81c18ce24f2646a0de8070f5583d190c3195ec4be2a29aaed1826adc169a574'},\n",
       "   'dob': {'date': '1956-09-01T20:08:50.161Z', 'age': 65},\n",
       "   'registered': {'date': '2003-09-03T00:27:43.360Z', 'age': 18},\n",
       "   'phone': '(468)-388-8501',\n",
       "   'cell': '(312)-308-7205',\n",
       "   'id': {'name': 'SSN', 'value': '122-03-5077'},\n",
       "   'picture': {'large': 'https://randomuser.me/api/portraits/men/3.jpg',\n",
       "    'medium': 'https://randomuser.me/api/portraits/med/men/3.jpg',\n",
       "    'thumbnail': 'https://randomuser.me/api/portraits/thumb/men/3.jpg'},\n",
       "   'nat': 'US'},\n",
       "  {'gender': 'male',\n",
       "   'name': {'title': 'Mr', 'first': 'Pedro', 'last': 'Gordon'},\n",
       "   'location': {'street': {'number': 2323, 'name': 'Timber Wolf Trail'},\n",
       "    'city': 'Fresno',\n",
       "    'state': 'California',\n",
       "    'country': 'United States',\n",
       "    'postcode': 99584,\n",
       "    'coordinates': {'latitude': '50.2398', 'longitude': '61.6355'},\n",
       "    'timezone': {'offset': '-6:00',\n",
       "     'description': 'Central Time (US & Canada), Mexico City'}},\n",
       "   'email': 'pedro.gordon@example.com',\n",
       "   'login': {'uuid': '385af426-b338-41a0-8f24-4d5b359cbc06',\n",
       "    'username': 'crazycat587',\n",
       "    'password': 'alfredo',\n",
       "    'salt': 'tccpYt5T',\n",
       "    'md5': 'a3cfb47324ead4338aaff89de010dcca',\n",
       "    'sha1': 'fa1581b9cb3ca1ed1f9db83eb470893d22b4549d',\n",
       "    'sha256': 'c764cdd3f9409382c5ef663f69b498e14e9eeff2b3cbfd79416f3894c3756a4a'},\n",
       "   'dob': {'date': '1974-03-26T01:31:41.104Z', 'age': 47},\n",
       "   'registered': {'date': '2004-09-30T05:47:25.500Z', 'age': 17},\n",
       "   'phone': '(725)-146-2675',\n",
       "   'cell': '(271)-153-7204',\n",
       "   'id': {'name': 'SSN', 'value': '437-16-4496'},\n",
       "   'picture': {'large': 'https://randomuser.me/api/portraits/men/41.jpg',\n",
       "    'medium': 'https://randomuser.me/api/portraits/med/men/41.jpg',\n",
       "    'thumbnail': 'https://randomuser.me/api/portraits/thumb/men/41.jpg'},\n",
       "   'nat': 'US'},\n",
       "  {'gender': 'male',\n",
       "   'name': {'title': 'Mr', 'first': 'Willie', 'last': 'Henderson'},\n",
       "   'location': {'street': {'number': 9262, 'name': 'Walnut Hill Ln'},\n",
       "    'city': 'Omaha',\n",
       "    'state': 'Iowa',\n",
       "    'country': 'United States',\n",
       "    'postcode': 54305,\n",
       "    'coordinates': {'latitude': '-50.0076', 'longitude': '-150.1323'},\n",
       "    'timezone': {'offset': '-1:00',\n",
       "     'description': 'Azores, Cape Verde Islands'}},\n",
       "   'email': 'willie.henderson@example.com',\n",
       "   'login': {'uuid': '079e5edd-9125-4245-8ec3-181330590bcb',\n",
       "    'username': 'whitedog884',\n",
       "    'password': 'trucking',\n",
       "    'salt': 'rM6S6ZSu',\n",
       "    'md5': 'c2d00bae80a43f0a8341b5578cd542b4',\n",
       "    'sha1': 'dd6005d0ee96f4a2fd206a3544f2c34ec3a57bc1',\n",
       "    'sha256': '3b59b9301aa5eccd9d9f4acca2194939148ac8e6339682d64a4985ef5d026b5b'},\n",
       "   'dob': {'date': '1969-08-08T05:31:00.305Z', 'age': 52},\n",
       "   'registered': {'date': '2017-11-20T21:36:32.897Z', 'age': 4},\n",
       "   'phone': '(535)-582-9561',\n",
       "   'cell': '(909)-678-8027',\n",
       "   'id': {'name': 'SSN', 'value': '724-23-6681'},\n",
       "   'picture': {'large': 'https://randomuser.me/api/portraits/men/41.jpg',\n",
       "    'medium': 'https://randomuser.me/api/portraits/med/men/41.jpg',\n",
       "    'thumbnail': 'https://randomuser.me/api/portraits/thumb/men/41.jpg'},\n",
       "   'nat': 'US'},\n",
       "  {'gender': 'female',\n",
       "   'name': {'title': 'Miss', 'first': 'Beverley', 'last': 'Watson'},\n",
       "   'location': {'street': {'number': 7161, 'name': 'Washington Ave'},\n",
       "    'city': 'Tulsa',\n",
       "    'state': 'New Jersey',\n",
       "    'country': 'United States',\n",
       "    'postcode': 41902,\n",
       "    'coordinates': {'latitude': '-37.5598', 'longitude': '92.0760'},\n",
       "    'timezone': {'offset': '+1:00',\n",
       "     'description': 'Brussels, Copenhagen, Madrid, Paris'}},\n",
       "   'email': 'beverley.watson@example.com',\n",
       "   'login': {'uuid': '533d51f5-003c-45eb-9428-826c382694ac',\n",
       "    'username': 'silvergorilla823',\n",
       "    'password': 'maryland',\n",
       "    'salt': 'tx164KPG',\n",
       "    'md5': '0831589e81bec9ec5824049c0f8ac7c6',\n",
       "    'sha1': 'c586051fb266fc9afaceaa3e79ee3938cfe60a7d',\n",
       "    'sha256': '2008010c7f84268b2e53cebc1bb64ce6681161849a9abcd768ea800d586c35b9'},\n",
       "   'dob': {'date': '1996-06-07T06:36:42.619Z', 'age': 25},\n",
       "   'registered': {'date': '2013-01-27T05:47:56.881Z', 'age': 8},\n",
       "   'phone': '(877)-036-2323',\n",
       "   'cell': '(045)-991-5347',\n",
       "   'id': {'name': 'SSN', 'value': '473-91-7791'},\n",
       "   'picture': {'large': 'https://randomuser.me/api/portraits/women/84.jpg',\n",
       "    'medium': 'https://randomuser.me/api/portraits/med/women/84.jpg',\n",
       "    'thumbnail': 'https://randomuser.me/api/portraits/thumb/women/84.jpg'},\n",
       "   'nat': 'US'},\n",
       "  {'gender': 'male',\n",
       "   'name': {'title': 'Mr', 'first': 'Ricky', 'last': 'Harvey'},\n",
       "   'location': {'street': {'number': 3402, 'name': 'Oak Ridge Ln'},\n",
       "    'city': 'Tempe',\n",
       "    'state': 'Oklahoma',\n",
       "    'country': 'United States',\n",
       "    'postcode': 50654,\n",
       "    'coordinates': {'latitude': '8.6916', 'longitude': '-75.6171'},\n",
       "    'timezone': {'offset': '+6:00', 'description': 'Almaty, Dhaka, Colombo'}},\n",
       "   'email': 'ricky.harvey@example.com',\n",
       "   'login': {'uuid': 'b1286c41-676b-4297-bea1-4f66eea4749e',\n",
       "    'username': 'redsnake182',\n",
       "    'password': 'johndeer',\n",
       "    'salt': 'OxKMXUQ0',\n",
       "    'md5': 'ffb6d80b12268c3cbc1aad3c3d9a6a08',\n",
       "    'sha1': '8a9b7c35a0aa7651239baf2267b1fb7160e5f674',\n",
       "    'sha256': '1e12aa0f24ac24548cacba7b74824f1167ba351d5019c82354776eeb68c5e15f'},\n",
       "   'dob': {'date': '1960-08-05T09:11:54.214Z', 'age': 61},\n",
       "   'registered': {'date': '2010-03-22T13:48:52.796Z', 'age': 11},\n",
       "   'phone': '(747)-048-6917',\n",
       "   'cell': '(272)-292-5327',\n",
       "   'id': {'name': 'SSN', 'value': '240-16-3360'},\n",
       "   'picture': {'large': 'https://randomuser.me/api/portraits/men/52.jpg',\n",
       "    'medium': 'https://randomuser.me/api/portraits/med/men/52.jpg',\n",
       "    'thumbnail': 'https://randomuser.me/api/portraits/thumb/men/52.jpg'},\n",
       "   'nat': 'US'},\n",
       "  {'gender': 'male',\n",
       "   'name': {'title': 'Mr', 'first': 'Joe', 'last': 'Byrd'},\n",
       "   'location': {'street': {'number': 6716, 'name': 'W Sherman Dr'},\n",
       "    'city': 'Costa Mesa',\n",
       "    'state': 'New Hampshire',\n",
       "    'country': 'United States',\n",
       "    'postcode': 92657,\n",
       "    'coordinates': {'latitude': '38.6242', 'longitude': '156.0966'},\n",
       "    'timezone': {'offset': '0:00',\n",
       "     'description': 'Western Europe Time, London, Lisbon, Casablanca'}},\n",
       "   'email': 'joe.byrd@example.com',\n",
       "   'login': {'uuid': 'db5ef2d7-e686-488d-8f9a-2f0eaced14cb',\n",
       "    'username': 'goldencat180',\n",
       "    'password': 'rhodes',\n",
       "    'salt': 'PGJGGcmT',\n",
       "    'md5': '71808239e16188d8369a0e95e53453d2',\n",
       "    'sha1': '40133be4d9730fa48f724c0e428eaba9b12f4899',\n",
       "    'sha256': '53a76392a040c8eb1ca489be2b4d87855404395d5711e993aff2527d49b46953'},\n",
       "   'dob': {'date': '1986-12-20T07:00:15.264Z', 'age': 35},\n",
       "   'registered': {'date': '2018-09-21T18:50:57.661Z', 'age': 3},\n",
       "   'phone': '(927)-864-2469',\n",
       "   'cell': '(988)-511-5989',\n",
       "   'id': {'name': 'SSN', 'value': '195-43-0788'},\n",
       "   'picture': {'large': 'https://randomuser.me/api/portraits/men/24.jpg',\n",
       "    'medium': 'https://randomuser.me/api/portraits/med/men/24.jpg',\n",
       "    'thumbnail': 'https://randomuser.me/api/portraits/thumb/men/24.jpg'},\n",
       "   'nat': 'US'},\n",
       "  {'gender': 'male',\n",
       "   'name': {'title': 'Mr', 'first': 'Ramon', 'last': 'West'},\n",
       "   'location': {'street': {'number': 3251, 'name': 'Paddock Way'},\n",
       "    'city': 'Worcester',\n",
       "    'state': 'Kentucky',\n",
       "    'country': 'United States',\n",
       "    'postcode': 40370,\n",
       "    'coordinates': {'latitude': '-37.3808', 'longitude': '-30.0750'},\n",
       "    'timezone': {'offset': '+8:00',\n",
       "     'description': 'Beijing, Perth, Singapore, Hong Kong'}},\n",
       "   'email': 'ramon.west@example.com',\n",
       "   'login': {'uuid': '45aae3bc-1f17-4bfe-9556-dee9a89c6cf9',\n",
       "    'username': 'bluecat775',\n",
       "    'password': 'bathing',\n",
       "    'salt': 'GUUk0X40',\n",
       "    'md5': '535089028fb6209b2b8b472c7b495cae',\n",
       "    'sha1': '845ea3269db54617741b43df019ba1c01763e9b4',\n",
       "    'sha256': '3bda07da8fb269274bded679971b6839f4e6f9ec9fcd5f582226077dc4e1c85a'},\n",
       "   'dob': {'date': '1968-07-11T04:08:50.014Z', 'age': 53},\n",
       "   'registered': {'date': '2002-10-03T05:39:02.399Z', 'age': 19},\n",
       "   'phone': '(346)-409-4813',\n",
       "   'cell': '(257)-397-2172',\n",
       "   'id': {'name': 'SSN', 'value': '140-10-2314'},\n",
       "   'picture': {'large': 'https://randomuser.me/api/portraits/men/91.jpg',\n",
       "    'medium': 'https://randomuser.me/api/portraits/med/men/91.jpg',\n",
       "    'thumbnail': 'https://randomuser.me/api/portraits/thumb/men/91.jpg'},\n",
       "   'nat': 'US'},\n",
       "  {'gender': 'female',\n",
       "   'name': {'title': 'Miss', 'first': 'Dora', 'last': 'Williams'},\n",
       "   'location': {'street': {'number': 9907, 'name': 'Cherry St'},\n",
       "    'city': 'Montgomery',\n",
       "    'state': 'Virginia',\n",
       "    'country': 'United States',\n",
       "    'postcode': 67482,\n",
       "    'coordinates': {'latitude': '67.0896', 'longitude': '132.7669'},\n",
       "    'timezone': {'offset': '+2:00',\n",
       "     'description': 'Kaliningrad, South Africa'}},\n",
       "   'email': 'dora.williams@example.com',\n",
       "   'login': {'uuid': 'cc14a454-6169-4ef2-957c-6b5f2cbf261c',\n",
       "    'username': 'yellowelephant488',\n",
       "    'password': 'joseph',\n",
       "    'salt': 'bshvlNv8',\n",
       "    'md5': '30a5d9d54213634f405edfb762f4df5e',\n",
       "    'sha1': 'e7f53ac4127d34028c0a2d8e00b0d32b2a00b41c',\n",
       "    'sha256': 'd284bad41c688d75af1a30413b07fec8c2e2d97827bd05d716f89eada5b5077e'},\n",
       "   'dob': {'date': '1952-09-20T13:37:46.063Z', 'age': 69},\n",
       "   'registered': {'date': '2005-03-15T07:46:48.290Z', 'age': 16},\n",
       "   'phone': '(721)-448-5135',\n",
       "   'cell': '(066)-925-0676',\n",
       "   'id': {'name': 'SSN', 'value': '149-34-4970'},\n",
       "   'picture': {'large': 'https://randomuser.me/api/portraits/women/64.jpg',\n",
       "    'medium': 'https://randomuser.me/api/portraits/med/women/64.jpg',\n",
       "    'thumbnail': 'https://randomuser.me/api/portraits/thumb/women/64.jpg'},\n",
       "   'nat': 'US'}],\n",
       " 'info': {'seed': '416f8ac8d754b04e',\n",
       "  'results': 10,\n",
       "  'page': 1,\n",
       "  'version': '1.3'}}"
      ]
     },
     "execution_count": 6,
     "metadata": {},
     "output_type": "execute_result"
    }
   ],
   "source": [
    "data = json.loads(response.text)\n",
    "data"
   ]
  },
  {
   "cell_type": "code",
   "execution_count": 7,
   "metadata": {},
   "outputs": [
    {
     "data": {
      "text/plain": [
       "dict"
      ]
     },
     "execution_count": 7,
     "metadata": {},
     "output_type": "execute_result"
    }
   ],
   "source": [
    "type(data)"
   ]
  },
  {
   "cell_type": "code",
   "execution_count": 59,
   "metadata": {},
   "outputs": [
    {
     "name": "stdout",
     "output_type": "stream",
     "text": [
      "Misty\n",
      "Marcia\n",
      "Irma\n",
      "Sally\n",
      "Gavin\n"
     ]
    }
   ],
   "source": [
    "for i in range(len(data[\"results\"])):\n",
    "    #print(key)\n",
    "    print(data['results'][i][\"name\"][\"first\"])"
   ]
  },
  {
   "cell_type": "code",
   "execution_count": 73,
   "metadata": {},
   "outputs": [
    {
     "data": {
      "text/plain": [
       "[{'gender': 'female',\n",
       "  'name': {'title': 'Miss', 'first': 'Misty', 'last': 'Stephens'},\n",
       "  'location': {'street': {'number': 1725, 'name': 'W Dallas St'},\n",
       "   'city': 'Seagoville',\n",
       "   'state': 'Arizona',\n",
       "   'country': 'United States',\n",
       "   'postcode': 61522,\n",
       "   'coordinates': {'latitude': '70.5347', 'longitude': '25.7555'},\n",
       "   'timezone': {'offset': '-6:00',\n",
       "    'description': 'Central Time (US & Canada), Mexico City'}},\n",
       "  'email': 'misty.stephens@example.com',\n",
       "  'login': {'uuid': 'bd232ed0-9dfe-4b50-a517-e24f9ddb8914',\n",
       "   'username': 'lazytiger237',\n",
       "   'password': 'astrid',\n",
       "   'salt': '394Ruczv',\n",
       "   'md5': '7999f56cd60d70db1f190f140789fd85',\n",
       "   'sha1': 'b87d382d4ccb070b733b618b461584787d3dec3e',\n",
       "   'sha256': '0048922750119d08c08b7c3a8a9706f2f3d5ebc6a34cf7f882484e062a1b17e5'},\n",
       "  'dob': {'date': '1959-09-28T04:53:48.746Z', 'age': 62},\n",
       "  'registered': {'date': '2019-09-23T09:16:40.028Z', 'age': 2},\n",
       "  'phone': '(887)-550-2189',\n",
       "  'cell': '(076)-994-9623',\n",
       "  'id': {'name': 'SSN', 'value': '533-02-2374'},\n",
       "  'picture': {'large': 'https://randomuser.me/api/portraits/women/57.jpg',\n",
       "   'medium': 'https://randomuser.me/api/portraits/med/women/57.jpg',\n",
       "   'thumbnail': 'https://randomuser.me/api/portraits/thumb/women/57.jpg'},\n",
       "  'nat': 'US'},\n",
       " {'gender': 'female',\n",
       "  'name': {'title': 'Miss', 'first': 'Marcia', 'last': 'Meyer'},\n",
       "  'location': {'street': {'number': 6951, 'name': 'Lone Wolf Trail'},\n",
       "   'city': 'Jersey City',\n",
       "   'state': 'Rhode Island',\n",
       "   'country': 'United States',\n",
       "   'postcode': 25923,\n",
       "   'coordinates': {'latitude': '-71.3392', 'longitude': '139.9709'},\n",
       "   'timezone': {'offset': '+10:00',\n",
       "    'description': 'Eastern Australia, Guam, Vladivostok'}},\n",
       "  'email': 'marcia.meyer@example.com',\n",
       "  'login': {'uuid': 'e0caff7f-a358-4550-b46c-608a91fb77c2',\n",
       "   'username': 'greenelephant810',\n",
       "   'password': 'bordeaux',\n",
       "   'salt': '4PArJ6EM',\n",
       "   'md5': '05012b3a51bd92f6c89e7f3326412b9c',\n",
       "   'sha1': '582fcebc4fe2c499e2be1063538767bd6282faf4',\n",
       "   'sha256': 'bc0f6b168349062a597d0348eb583236e8fbe47c14698a27029c7b3c1f878f94'},\n",
       "  'dob': {'date': '1955-03-04T11:47:23.926Z', 'age': 66},\n",
       "  'registered': {'date': '2018-01-04T20:32:30.006Z', 'age': 3},\n",
       "  'phone': '(914)-284-8126',\n",
       "  'cell': '(373)-653-1209',\n",
       "  'id': {'name': 'SSN', 'value': '182-97-5941'},\n",
       "  'picture': {'large': 'https://randomuser.me/api/portraits/women/37.jpg',\n",
       "   'medium': 'https://randomuser.me/api/portraits/med/women/37.jpg',\n",
       "   'thumbnail': 'https://randomuser.me/api/portraits/thumb/women/37.jpg'},\n",
       "  'nat': 'US'},\n",
       " {'gender': 'female',\n",
       "  'name': {'title': 'Mrs', 'first': 'Irma', 'last': 'Price'},\n",
       "  'location': {'street': {'number': 3995, 'name': 'White Oak Dr'},\n",
       "   'city': 'Shelby',\n",
       "   'state': 'Delaware',\n",
       "   'country': 'United States',\n",
       "   'postcode': 15560,\n",
       "   'coordinates': {'latitude': '72.4391', 'longitude': '60.9417'},\n",
       "   'timezone': {'offset': '-10:00', 'description': 'Hawaii'}},\n",
       "  'email': 'irma.price@example.com',\n",
       "  'login': {'uuid': '649e7926-4c3e-46f2-a4c7-d24a6b5a8523',\n",
       "   'username': 'purplegorilla121',\n",
       "   'password': 'soprano',\n",
       "   'salt': 'l62yFcg2',\n",
       "   'md5': '26c040cec9c3f62b24a41265f74581f0',\n",
       "   'sha1': '64c64bc545cbba3db004bf47c2e167e140f0b643',\n",
       "   'sha256': '7853f6942a1ab9b6f77554689201dccc6a38c8f5ed12ebabdbb57325bc8537dd'},\n",
       "  'dob': {'date': '1950-12-03T23:08:40.226Z', 'age': 71},\n",
       "  'registered': {'date': '2010-03-06T18:39:56.836Z', 'age': 11},\n",
       "  'phone': '(373)-268-9675',\n",
       "  'cell': '(519)-051-3159',\n",
       "  'id': {'name': 'SSN', 'value': '764-74-5908'},\n",
       "  'picture': {'large': 'https://randomuser.me/api/portraits/women/32.jpg',\n",
       "   'medium': 'https://randomuser.me/api/portraits/med/women/32.jpg',\n",
       "   'thumbnail': 'https://randomuser.me/api/portraits/thumb/women/32.jpg'},\n",
       "  'nat': 'US'},\n",
       " {'gender': 'female',\n",
       "  'name': {'title': 'Ms', 'first': 'Sally', 'last': 'Medina'},\n",
       "  'location': {'street': {'number': 7981, 'name': 'E North St'},\n",
       "   'city': 'Columbia',\n",
       "   'state': 'Nevada',\n",
       "   'country': 'United States',\n",
       "   'postcode': 59279,\n",
       "   'coordinates': {'latitude': '-77.9401', 'longitude': '146.0117'},\n",
       "   'timezone': {'offset': '+7:00', 'description': 'Bangkok, Hanoi, Jakarta'}},\n",
       "  'email': 'sally.medina@example.com',\n",
       "  'login': {'uuid': '2d4fc8f7-2ec6-4b91-afd2-02ed6801dda6',\n",
       "   'username': 'heavyleopard544',\n",
       "   'password': 'dawson',\n",
       "   'salt': 'O04ekc95',\n",
       "   'md5': 'e036ca6d79de00ad6c20ddf4a96b738b',\n",
       "   'sha1': '34c65847f6f8191844461e93d8910a2621e1e6a7',\n",
       "   'sha256': '958716591b3e17a5c401613be45f3b794b8f78a6e68ed92765d4b020cf10cb44'},\n",
       "  'dob': {'date': '1962-11-05T05:58:19.148Z', 'age': 59},\n",
       "  'registered': {'date': '2013-12-23T12:21:21.647Z', 'age': 8},\n",
       "  'phone': '(304)-908-9812',\n",
       "  'cell': '(012)-510-5230',\n",
       "  'id': {'name': 'SSN', 'value': '299-40-2025'},\n",
       "  'picture': {'large': 'https://randomuser.me/api/portraits/women/94.jpg',\n",
       "   'medium': 'https://randomuser.me/api/portraits/med/women/94.jpg',\n",
       "   'thumbnail': 'https://randomuser.me/api/portraits/thumb/women/94.jpg'},\n",
       "  'nat': 'US'},\n",
       " {'gender': 'male',\n",
       "  'name': {'title': 'Mr', 'first': 'Gavin', 'last': 'Hall'},\n",
       "  'location': {'street': {'number': 8775, 'name': 'Hamilton Ave'},\n",
       "   'city': 'Tallahassee',\n",
       "   'state': 'Idaho',\n",
       "   'country': 'United States',\n",
       "   'postcode': 32890,\n",
       "   'coordinates': {'latitude': '-85.6689', 'longitude': '-138.2554'},\n",
       "   'timezone': {'offset': '+11:00',\n",
       "    'description': 'Magadan, Solomon Islands, New Caledonia'}},\n",
       "  'email': 'gavin.hall@example.com',\n",
       "  'login': {'uuid': '755c539d-eab8-492f-8825-19fca7b78f0d',\n",
       "   'username': 'brownpanda628',\n",
       "   'password': 'viper1',\n",
       "   'salt': '0QtgNLBj',\n",
       "   'md5': '24a746dd9e6bfa174ddd906bd835e972',\n",
       "   'sha1': '3242dcbe2488aa19a82edc3c59d4a2e6d5f6bb93',\n",
       "   'sha256': '200ee772b10b3de73d2f0f1f502bf6f874e2b7024ed023b0dd6fd19822f2e8b0'},\n",
       "  'dob': {'date': '1970-07-16T13:02:34.457Z', 'age': 51},\n",
       "  'registered': {'date': '2018-08-02T17:53:55.102Z', 'age': 3},\n",
       "  'phone': '(173)-221-9128',\n",
       "  'cell': '(284)-880-0002',\n",
       "  'id': {'name': 'SSN', 'value': '384-87-6847'},\n",
       "  'picture': {'large': 'https://randomuser.me/api/portraits/men/68.jpg',\n",
       "   'medium': 'https://randomuser.me/api/portraits/med/men/68.jpg',\n",
       "   'thumbnail': 'https://randomuser.me/api/portraits/thumb/men/68.jpg'},\n",
       "  'nat': 'US'}]"
      ]
     },
     "execution_count": 73,
     "metadata": {},
     "output_type": "execute_result"
    }
   ],
   "source": [
    "data[\"results\"]"
   ]
  },
  {
   "cell_type": "code",
   "execution_count": 16,
   "metadata": {},
   "outputs": [
    {
     "name": "stdout",
     "output_type": "stream",
     "text": [
      "Mark Vande Hei, Oleg Novitskiy, Pyotr Dubrov, Thomas Pesquet, Megan McArthur, Shane Kimbrough, Akihiko Hoshide\n"
     ]
    },
    {
     "data": {
      "text/plain": [
       "7"
      ]
     },
     "execution_count": 16,
     "metadata": {},
     "output_type": "execute_result"
    }
   ],
   "source": [
    "response = requests.get(\"http://api.open-notify.org/astros.json\")\n",
    "astro = json.loads(response.text)\n",
    "number_space = astro[\"number\"]\n",
    "name_space = [astro[\"people\"][i][\"name\"] for i in range(len(astro[\"people\"]))]\n",
    "print(*name_space, sep = \", \")\n",
    "len(astro[\"people\"])"
   ]
  },
  {
   "cell_type": "code",
   "execution_count": 17,
   "metadata": {},
   "outputs": [
    {
     "data": {
      "text/plain": [
       "['Mark Vande Hei',\n",
       " 'Oleg Novitskiy',\n",
       " 'Pyotr Dubrov',\n",
       " 'Thomas Pesquet',\n",
       " 'Megan McArthur',\n",
       " 'Shane Kimbrough',\n",
       " 'Akihiko Hoshide']"
      ]
     },
     "execution_count": 17,
     "metadata": {},
     "output_type": "execute_result"
    }
   ],
   "source": [
    "name_space"
   ]
  },
  {
   "cell_type": "code",
   "execution_count": 19,
   "metadata": {},
   "outputs": [
    {
     "name": "stdout",
     "output_type": "stream",
     "text": [
      "Mark Vande Hei, Oleg Novitskiy, Pyotr Dubrov, Thomas Pesquet, Megan McArthur, Shane Kimbrough, Akihiko Hoshide\n"
     ]
    }
   ],
   "source": [
    "print(', '.join(name_space))"
   ]
  },
  {
   "cell_type": "code",
   "execution_count": null,
   "metadata": {},
   "outputs": [],
   "source": [
    "Create a small Streamlit application, that creates a dynamic website, that shows the\n",
    "total number of people in space as well as all the names of the people. The app\n",
    "should use the API to get the names and display the names. Add a descriptive title\n",
    "and a short description (you can use the Streamlit markdown method)."
   ]
  },
  {
   "cell_type": "code",
   "execution_count": 86,
   "metadata": {},
   "outputs": [
    {
     "data": {
      "text/plain": [
       "['Mark Vande Hei',\n",
       " 'Oleg Novitskiy',\n",
       " 'Pyotr Dubrov',\n",
       " 'Thomas Pesquet',\n",
       " 'Megan McArthur',\n",
       " 'Shane Kimbrough',\n",
       " 'Akihiko Hoshide']"
      ]
     },
     "execution_count": 86,
     "metadata": {},
     "output_type": "execute_result"
    }
   ],
   "source": [
    "number_space = astro[\"number\"]\n",
    "name_space = [astro[\"people\"][i][\"name\"] for i in range(len(astro[\"people\"]))]\n",
    "name_space"
   ]
  },
  {
   "cell_type": "code",
   "execution_count": 83,
   "metadata": {},
   "outputs": [
    {
     "data": {
      "text/plain": [
       "7"
      ]
     },
     "execution_count": 83,
     "metadata": {},
     "output_type": "execute_result"
    }
   ],
   "source": [
    "len(astro[\"people\"])"
   ]
  },
  {
   "cell_type": "code",
   "execution_count": 63,
   "metadata": {},
   "outputs": [
    {
     "data": {
      "text/plain": [
       "{'iss_position': {'longitude': '4.3899', 'latitude': '-3.1570'},\n",
       " 'message': 'success',\n",
       " 'timestamp': 1621269847}"
      ]
     },
     "execution_count": 63,
     "metadata": {},
     "output_type": "execute_result"
    }
   ],
   "source": [
    "import urllib.request\n",
    "response = urllib.request.urlopen(\"http://api.open-notify.org/iss-now.json\")\n",
    "obj = json.loads(response.read())\n",
    "obj"
   ]
  },
  {
   "cell_type": "code",
   "execution_count": 31,
   "metadata": {},
   "outputs": [
    {
     "ename": "TypeError",
     "evalue": "'module' object is not callable",
     "output_type": "error",
     "traceback": [
      "\u001b[0;31m---------------------------------------------------------------------------\u001b[0m",
      "\u001b[0;31mTypeError\u001b[0m                                 Traceback (most recent call last)",
      "\u001b[0;32m<ipython-input-31-a8ffcd4cd9d6>\u001b[0m in \u001b[0;36m<module>\u001b[0;34m\u001b[0m\n\u001b[1;32m      1\u001b[0m \u001b[0;32mimport\u001b[0m \u001b[0mjson\u001b[0m\u001b[0;34m\u001b[0m\u001b[0;34m\u001b[0m\u001b[0m\n\u001b[1;32m      2\u001b[0m \u001b[0;34m\u001b[0m\u001b[0m\n\u001b[0;32m----> 3\u001b[0;31m \u001b[0mreq\u001b[0m \u001b[0;34m=\u001b[0m \u001b[0murllib\u001b[0m\u001b[0;34m.\u001b[0m\u001b[0mrequest\u001b[0m\u001b[0;34m(\u001b[0m\u001b[0;34m\"http://api.open-notify.org/iss-now.json\"\u001b[0m\u001b[0;34m)\u001b[0m\u001b[0;34m\u001b[0m\u001b[0;34m\u001b[0m\u001b[0m\n\u001b[0m\u001b[1;32m      4\u001b[0m \u001b[0mresponse\u001b[0m \u001b[0;34m=\u001b[0m \u001b[0murllib\u001b[0m\u001b[0;34m.\u001b[0m\u001b[0murlopen\u001b[0m\u001b[0;34m(\u001b[0m\u001b[0mreq\u001b[0m\u001b[0;34m)\u001b[0m\u001b[0;34m\u001b[0m\u001b[0;34m\u001b[0m\u001b[0m\n\u001b[1;32m      5\u001b[0m \u001b[0;34m\u001b[0m\u001b[0m\n",
      "\u001b[0;31mTypeError\u001b[0m: 'module' object is not callable"
     ]
    }
   ],
   "source": [
    "st.pydeck_chart(pdk.Deck(\n",
    "...     map_style='mapbox://styles/mapbox/light-v9',\n",
    "...     initial_view_state=pdk.ViewState(\n",
    "...         latitude=-41.7489,\n",
    "...         longitude=-34.5313,\n",
    "...         zoom=11,\n",
    "...         pitch=50,\n",
    "...     )\n",
    "... ))"
   ]
  },
  {
   "cell_type": "code",
   "execution_count": 65,
   "metadata": {},
   "outputs": [
    {
     "data": {
      "text/html": [
       "<div>\n",
       "<style scoped>\n",
       "    .dataframe tbody tr th:only-of-type {\n",
       "        vertical-align: middle;\n",
       "    }\n",
       "\n",
       "    .dataframe tbody tr th {\n",
       "        vertical-align: top;\n",
       "    }\n",
       "\n",
       "    .dataframe thead th {\n",
       "        text-align: right;\n",
       "    }\n",
       "</style>\n",
       "<table border=\"1\" class=\"dataframe\">\n",
       "  <thead>\n",
       "    <tr style=\"text-align: right;\">\n",
       "      <th></th>\n",
       "      <th>lon</th>\n",
       "      <th>lat</th>\n",
       "    </tr>\n",
       "  </thead>\n",
       "  <tbody>\n",
       "    <tr>\n",
       "      <th>0</th>\n",
       "      <td>4.3899</td>\n",
       "      <td>-3.1570</td>\n",
       "    </tr>\n",
       "  </tbody>\n",
       "</table>\n",
       "</div>"
      ],
      "text/plain": [
       "      lon      lat\n",
       "0  4.3899  -3.1570"
      ]
     },
     "execution_count": 65,
     "metadata": {},
     "output_type": "execute_result"
    }
   ],
   "source": [
    "# list of strings\n",
    "lst2 = [obj['iss_position']['latitude']]\n",
    "  \n",
    "# list of int\n",
    "lst = [obj['iss_position']['longitude']]\n",
    "  \n",
    "# Calling DataFrame constructor after zipping\n",
    "# both lists, with columns specified\n",
    "df = pd.DataFrame(list(zip(lst, lst2)),\n",
    "               columns =['lon', 'lat'])\n",
    "df"
   ]
  },
  {
   "cell_type": "code",
   "execution_count": 51,
   "metadata": {},
   "outputs": [
    {
     "data": {
      "text/plain": [
       "array([  37.75594218, -122.39192056])"
      ]
     },
     "execution_count": 51,
     "metadata": {},
     "output_type": "execute_result"
    }
   ],
   "source": [
    "import numpy as np\n",
    "lst = np.random.randn(1000, 2) / [50, 50] + [37.76, -122.4]\n",
    "lst[0]"
   ]
  },
  {
   "cell_type": "code",
   "execution_count": 53,
   "metadata": {},
   "outputs": [
    {
     "data": {
      "text/plain": [
       "array([-41.7489, -34.5313])"
      ]
     },
     "execution_count": 53,
     "metadata": {},
     "output_type": "execute_result"
    }
   ],
   "source": [
    "np.array([-41.7489, -34.5313])"
   ]
  },
  {
   "cell_type": "code",
   "execution_count": null,
   "metadata": {},
   "outputs": [],
   "source": []
  }
 ],
 "metadata": {
  "kernelspec": {
   "display_name": "Python 3",
   "language": "python",
   "name": "python3"
  },
  "language_info": {
   "codemirror_mode": {
    "name": "ipython",
    "version": 3
   },
   "file_extension": ".py",
   "mimetype": "text/x-python",
   "name": "python",
   "nbconvert_exporter": "python",
   "pygments_lexer": "ipython3",
   "version": "3.8.5"
  }
 },
 "nbformat": 4,
 "nbformat_minor": 4
}
